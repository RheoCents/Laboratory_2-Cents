{
 "cells": [
  {
   "cell_type": "markdown",
   "metadata": {},
   "source": [
    "## Lab 2 Exercise 1\n",
    "#### A teacher named Mrs. Rivera who loved making math fun for her students. One day, a student named Mia asked how to calculate powers, like (2^7). Mrs. Rivera explained, “Imagine you need to multiply 2 by itself seven times. We can solve this using a python code utilizing  special method called recursion to solve this,” \n",
    "### Can you help the class of Mrs. Rivera by providing the recursive method to calculate powers?"
   ]
  },
  {
   "cell_type": "code",
   "execution_count": null,
   "metadata": {},
   "outputs": [],
   "source": [
    "def raise_to(base, power):\n",
    "    if power < 0:\n",
    "        raise ValueError(\"Exponent should be a non-negative integer.\")\n",
    "    answer = base\n",
    "    if power == 0:\n",
    "        return 1\n",
    "    elif power == 1:\n",
    "        return answer\n",
    "    else:\n",
    "        for _ in range(1, power):\n",
    "            answer = answer * base\n",
    "        return answer\n",
    "\n",
    "def initilization():\n",
    "    try:\n",
    "        user_base = int(input(\"What is your base? \"))\n",
    "        user_exponent = int(input('What number should we raise it to? '))\n",
    "\n",
    "        print(raise_to(user_base, user_exponent))\n",
    "\n",
    "    except ValueError:\n",
    "        print(\"Please enter an integer value for both the base and the exponent.\")\n",
    "        initilization()\n",
    "\n",
    "initilization()"
   ]
  },
  {
   "cell_type": "markdown",
   "metadata": {},
   "source": [
    "## Lab 2 Exercise 2\n",
    "#### compute for the cube of integers. \n",
    "\n",
    "Steps:\n",
    "1. Input the size of the array.\n",
    "2. input the elements of the array\n",
    "3. display the cube of each element\n",
    "\n",
    "Sample output\n",
    "\n",
    "Enter the size of the array : 3\n",
    "Enter the elements separated by space: 3 10 20\n",
    "27\n",
    "1000\n",
    "8000"
   ]
  },
  {
   "cell_type": "code",
   "execution_count": null,
   "metadata": {},
   "outputs": [],
   "source": [
    "def number_cuber():\n",
    "    cube_list =[]\n",
    "    user_aray = int(input(\"How many numbers are we cubing? e.g. 3: \"))\n",
    "    user_list = input(\"please input the numbers we are cubing: e.g. 1 20 33: \").split()\n",
    "    for i in range (user_aray):\n",
    "        cube_list.append(int(user_list[i]))\n",
    "    for i in cube_list:\n",
    "        print(int(i)**3)\n",
    "try:\n",
    "    number_cuber()\n",
    "except ValueError:\n",
    "    print('Please only input intigers')\n",
    "    number_cuber()\n",
    "except IndexError:\n",
    "    print(\"Please match your given array\")\n",
    "    number_cuber()"
   ]
  },
  {
   "cell_type": "markdown",
   "metadata": {},
   "source": [
    "## Lab 2 Exercise 3\n",
    "#### Generate a hollow square based on the + integer input side length n."
   ]
  },
  {
   "cell_type": "code",
   "execution_count": null,
   "metadata": {},
   "outputs": [],
   "source": [
    "def hollow_square_maker():\n",
    "    try:\n",
    "        user_integer_input = int(input(\"Please enter the size of the box: \"))\n",
    "        for i in range(user_integer_input):\n",
    "            if i == 0 or i == user_integer_input - 1:\n",
    "                print('x' * (user_integer_input-1))\n",
    "            else:\n",
    "                print('x' + ' ' * (user_integer_input) + 'x')\n",
    "    except ValueError:\n",
    "        print(\"Please enter an intiger\")\n",
    "\n",
    "hollow_square_maker()"
   ]
  },
  {
   "cell_type": "markdown",
   "metadata": {},
   "source": [
    "### Lab 2 Exercise 4\n",
    "#### Generate an inverted right triangle of height n."
   ]
  },
  {
   "cell_type": "markdown",
   "metadata": {},
   "source": []
  },
  {
   "cell_type": "code",
   "execution_count": null,
   "metadata": {},
   "outputs": [],
   "source": [
    "def right_triangle_printer():\n",
    "    try: \n",
    "        user_n_input = int(input(\"How high do you want your triangle to be: \"))\n",
    "        for i in range (user_n_input,1,-1):\n",
    "            print(\"*\"*(i))\n",
    "    except ValueError:\n",
    "        print(\"Please only input\")\n",
    "        right_triangle_printer()\n",
    "right_triangle_printer()"
   ]
  }
 ],
 "metadata": {
  "language_info": {
   "name": "python"
  }
 },
 "nbformat": 4,
 "nbformat_minor": 2
}
